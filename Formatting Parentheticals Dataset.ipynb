{
 "cells": [
  {
   "cell_type": "markdown",
   "id": "4a11efb6-a739-4ac8-b150-5d4f3efa3e55",
   "metadata": {},
   "source": [
    "# This code was used in formatting the LegalBert-Large summaries with the CaseHold Parentheticals\n",
    "## -The first cell was used to create a small subset of the dataset for testing\n",
    "## -The second section was used to formatting the full dataset of train, val, and test"
   ]
  },
  {
   "cell_type": "code",
   "execution_count": null,
   "id": "ed894c3b-1d19-4154-bdf9-84b0405c2264",
   "metadata": {},
   "outputs": [],
   "source": [
    "import json\n",
    "import pandas as pd\n",
    "import os\n",
    "\n",
    "csv_file = 'case_references.csv'\n",
    "case_references = pd.read_csv(csv_file)\n",
    "\n",
    "data_rows = []\n",
    "\n",
    "json_dir = 'test set for Jesse json'\n",
    "txt_dir = 'test set for Jesse txt'\n",
    "\n",
    "# We go through a bunch of downloaded cases from Caselaw\n",
    "# Then we match the case id with the case_references csv\n",
    "# From here, we find the corresponding summary, which is in a txt file\n",
    "# The result is put in a dataframe\n",
    "for json_file in os.listdir(json_dir):\n",
    "    if json_file.endswith('.json'):\n",
    "        # Extract base case number (e.g., 'case_38' from 'case_38.json')\n",
    "        base_case_number = os.path.splitext(json_file)[0]\n",
    "        print(f\"Processing {base_case_number}\")\n",
    "        \n",
    "        json_path = os.path.join(json_dir, json_file)\n",
    "        \n",
    "        with open(json_path, 'r') as file:\n",
    "            data = json.load(file)\n",
    "            \n",
    "        json_id = data['id']\n",
    "        matching_case = case_references[case_references['case_id'] == json_id]\n",
    "\n",
    "        if not matching_case.empty:\n",
    "            correct_answer_value = matching_case['correct_answer_value'].iloc[0]\n",
    "            txt_file_name = f\"{base_case_number}_summary.txt\"\n",
    "            txt_path = os.path.join(txt_dir, txt_file_name)\n",
    "\n",
    "            try:\n",
    "                with open(txt_path, 'r') as file:\n",
    "                    txt_content = file.read()\n",
    "\n",
    "                data_rows.append({\n",
    "                    'input': txt_content,\n",
    "                    'output': correct_answer_value,\n",
    "                    'case number': base_case_number,\n",
    "                    'case_id': json_id\n",
    "                })\n",
    "            except FileNotFoundError:\n",
    "                print(f\"File not found: {txt_path}\")\n",
    "\n",
    "new_df = pd.DataFrame(data_rows)\n",
    "new_df.to_csv('test_set_for_jesse.csv', index=False)"
   ]
  },
  {
   "cell_type": "markdown",
   "id": "08a354b3-8024-4dae-a439-37bf044850b3",
   "metadata": {},
   "source": [
    "# Used in formatting the full dataset"
   ]
  },
  {
   "cell_type": "code",
   "execution_count": null,
   "id": "76951a4f-ba25-4fb4-a39e-34dab3ff1874",
   "metadata": {},
   "outputs": [],
   "source": [
    "import json\n",
    "import pandas as pd\n",
    "import os\n",
    "from tqdm import tqdm\n",
    "\n",
    "def process_case_files(csv_file, json_dir, txt_dir):\n",
    "\n",
    "    case_references = pd.read_csv(csv_file)\n",
    "\n",
    "    data_rows = []\n",
    "\n",
    "    json_files = [f for f in os.listdir(json_dir) if f.endswith('.json')]\n",
    "    for json_file in tqdm(json_files, desc=\"Processing JSON files\"):\n",
    "        base_case_number = os.path.splitext(json_file)[0]\n",
    "        json_path = os.path.join(json_dir, json_file)\n",
    "\n",
    "        with open(json_path, 'r') as file:\n",
    "            data = json.load(file)\n",
    "        json_id = data['id']\n",
    "\n",
    "        matching_case = case_references[case_references['case_id'] == json_id]\n",
    "\n",
    "        if not matching_case.empty:\n",
    "            correct_answer_value = matching_case['correct_answer_value'].iloc[0]\n",
    "            txt_file_name = f\"{base_case_number}_summary.txt\"\n",
    "            txt_path = os.path.join(txt_dir, txt_file_name)\n",
    "\n",
    "            try:\n",
    "                with open(txt_path, 'r') as file:\n",
    "                    txt_content = file.read()\n",
    "\n",
    "                # Add to data rows\n",
    "                data_rows.append({\n",
    "                    'input': txt_content,\n",
    "                    'output': correct_answer_value,\n",
    "                    'case number': base_case_number,\n",
    "                    'case_id': json_id\n",
    "                })\n",
    "            except FileNotFoundError:\n",
    "                # print(f\"File not found: {txt_path}\")\n",
    "                continue\n",
    "\n",
    "    new_df = pd.DataFrame(data_rows)\n",
    "    new_df.dropna(inplace=True)\n",
    "\n",
    "    # Generate output CSV file name based on json_dir\n",
    "    dataset_type = json_dir.split('_')[-1]\n",
    "    output_csv_name = f\"{dataset_type}_dataset.csv\"\n",
    "    new_df.to_csv(output_csv_name, index=False)\n",
    "    print(f\"Processed data saved to {output_csv_name}\")"
   ]
  },
  {
   "cell_type": "code",
   "execution_count": null,
   "id": "315986c2-d0fc-4b45-b57b-bee9fb11722f",
   "metadata": {},
   "outputs": [],
   "source": [
    "process_case_files('case_references_train.csv', 'ref_case_jsons_train', 'ref_case_txt_train')"
   ]
  },
  {
   "cell_type": "code",
   "execution_count": null,
   "id": "ecc72a71-a53f-4f85-bf23-e043a5d5a756",
   "metadata": {},
   "outputs": [],
   "source": [
    "process_case_files('case_references_test.csv', 'ref_case_jsons_test', 'ref_case_txt_test')"
   ]
  },
  {
   "cell_type": "code",
   "execution_count": null,
   "id": "3d21d0cf-48f0-4a70-bd26-5e858d070de3",
   "metadata": {},
   "outputs": [],
   "source": [
    "process_case_files('case_references_val.csv', 'ref_case_jsons_val', 'ref_case_txt_val')"
   ]
  },
  {
   "cell_type": "code",
   "execution_count": null,
   "id": "9fcf363c-a914-456f-9936-ccc9181e7722",
   "metadata": {},
   "outputs": [],
   "source": []
  }
 ],
 "metadata": {
  "kernelspec": {
   "display_name": "Python 3 (ipykernel)",
   "language": "python",
   "name": "python3"
  },
  "language_info": {
   "codemirror_mode": {
    "name": "ipython",
    "version": 3
   },
   "file_extension": ".py",
   "mimetype": "text/x-python",
   "name": "python",
   "nbconvert_exporter": "python",
   "pygments_lexer": "ipython3",
   "version": "3.10.12"
  }
 },
 "nbformat": 4,
 "nbformat_minor": 5
}
